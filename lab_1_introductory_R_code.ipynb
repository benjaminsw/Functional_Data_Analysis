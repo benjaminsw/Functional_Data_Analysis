{
  "nbformat": 4,
  "nbformat_minor": 0,
  "metadata": {
    "colab": {
      "name": "introductory R codeFile ",
      "provenance": [],
      "collapsed_sections": [],
      "authorship_tag": "ABX9TyPDRWoser2HxZrocHWuptky",
      "include_colab_link": true
    },
    "kernelspec": {
      "name": "ir",
      "display_name": "R"
    }
  },
  "cells": [
    {
      "cell_type": "markdown",
      "metadata": {
        "id": "view-in-github",
        "colab_type": "text"
      },
      "source": [
        "<a href=\"https://colab.research.google.com/github/benjaminsw/Functional_Data_Analysis/blob/main/lab_1_introductory_R_code.ipynb\" target=\"_parent\"><img src=\"https://colab.research.google.com/assets/colab-badge.svg\" alt=\"Open In Colab\"/></a>"
      ]
    },
    {
      "cell_type": "code",
      "metadata": {
        "id": "DGwuOpNygxOc",
        "colab": {
          "base_uri": "https://localhost:8080/"
        },
        "outputId": "2bf5357d-891f-4e8b-f988-96d7d6ee03f2"
      },
      "source": [
        "# Install the fda library & call the fda library\n",
        "if (!require(\"pacman\")) install.packages(\"pacman\")\n",
        "pacman::p_load(fda, psych)\n"
      ],
      "execution_count": null,
      "outputs": [
        {
          "output_type": "stream",
          "text": [
            "Loading required package: pacman\n",
            "\n",
            "Warning message in library(package, lib.loc = lib.loc, character.only = TRUE, logical.return = TRUE, :\n",
            "“there is no package called ‘pacman’”\n",
            "Installing package into ‘/usr/local/lib/R/site-library’\n",
            "(as ‘lib’ is unspecified)\n",
            "\n",
            "Installing package into ‘/usr/local/lib/R/site-library’\n",
            "(as ‘lib’ is unspecified)\n",
            "\n",
            "also installing the dependencies ‘mvtnorm’, ‘locfit’, ‘ash’, ‘FNN’, ‘kernlab’, ‘mclust’, ‘multicool’, ‘pcaPP’, ‘hdrcde’, ‘ks’, ‘bitops’, ‘rainbow’, ‘RCurl’, ‘fds’\n",
            "\n",
            "\n"
          ],
          "name": "stderr"
        }
      ]
    },
    {
      "cell_type": "code",
      "metadata": {
        "id": "10H8_F_1zKre"
      },
      "source": [
        "# Description of Canadian Weather data\n",
        "describe(CanadianWeather)\n"
      ],
      "execution_count": null,
      "outputs": []
    },
    {
      "cell_type": "code",
      "metadata": {
        "id": "sxfPs-b8zNeM"
      },
      "source": [
        "# Extract the temperature data of the 35 cities\n",
        "temp = CanadianWeather$dailyAv\n",
        "df_1 = as.data.frame(CanadianWeather$dailyAv)[,1:35]\n",
        "# And plot them using matplot \n",
        "matplot(df_1,type=\"l\",xlab=\"Days\")"
      ],
      "execution_count": null,
      "outputs": []
    },
    {
      "cell_type": "code",
      "metadata": {
        "id": "e0u1-2snzN1e"
      },
      "source": [
        "# Extract the Vancouver temperature data and plot it\n",
        "plot(df_1$Vancouver.Temperature.C,xlab=\"Days\")\n"
      ],
      "execution_count": null,
      "outputs": []
    },
    {
      "cell_type": "code",
      "metadata": {
        "id": "uKKFj7WSzR95"
      },
      "source": [
        "# Extract the Vancouver precipitation data and plot it\n",
        "df_2 = as.data.frame(CanadianWeather$dailyAv)[,36:70]\n",
        "plot(df_2$Vancouver.Precipitation.mm,xlab=\"Days\")"
      ],
      "execution_count": null,
      "outputs": []
    },
    {
      "cell_type": "code",
      "metadata": {
        "id": "s1S2UBbwzSv3"
      },
      "source": [
        ""
      ],
      "execution_count": null,
      "outputs": []
    }
  ]
}